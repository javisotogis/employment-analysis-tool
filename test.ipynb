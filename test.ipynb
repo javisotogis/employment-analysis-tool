{
 "cells": [
  {
   "cell_type": "code",
   "execution_count": 1,
   "metadata": {},
   "outputs": [],
   "source": [
    "import pandas as pd"
   ]
  },
  {
   "cell_type": "code",
   "execution_count": 5,
   "metadata": {},
   "outputs": [
    {
     "name": "stdout",
     "output_type": "stream",
     "text": [
      "['England' 'Northern Ireland' 'remote' 'Scotland' 'Wales']\n"
     ]
    }
   ],
   "source": [
    "df = pd.read_csv('tmp_outputs/df_lat_long.csv')\n",
    "#print(df.head())\n",
    "print(df['location'].unique())"
   ]
  }
 ],
 "metadata": {
  "kernelspec": {
   "display_name": "geoenv_20250226",
   "language": "python",
   "name": "python3"
  },
  "language_info": {
   "codemirror_mode": {
    "name": "ipython",
    "version": 3
   },
   "file_extension": ".py",
   "mimetype": "text/x-python",
   "name": "python",
   "nbconvert_exporter": "python",
   "pygments_lexer": "ipython3",
   "version": "3.12.9"
  }
 },
 "nbformat": 4,
 "nbformat_minor": 2
}
